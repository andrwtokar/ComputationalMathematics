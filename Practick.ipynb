{
  "nbformat": 4,
  "nbformat_minor": 0,
  "metadata": {
    "colab": {
      "name": "Practick",
      "provenance": [],
      "collapsed_sections": []
    },
    "kernelspec": {
      "name": "python3",
      "display_name": "Python 3"
    }
  },
  "cells": [
    {
      "cell_type": "markdown",
      "metadata": {
        "id": "Df5uCVYwbboi"
      },
      "source": [
        "# Решение практической задачи 1.2.16 по курсу Вычислительной математики\n",
        "#### Подготовил студент 3-го курса ФРКТ\n",
        "#### Токарев Андрей\n"
      ]
    },
    {
      "cell_type": "code",
      "metadata": {
        "id": "yNvbvQxGUmVt"
      },
      "source": [
        "import math\n",
        "import matplotlib.pyplot as plt"
      ],
      "execution_count": null,
      "outputs": []
    },
    {
      "cell_type": "markdown",
      "metadata": {
        "id": "hOYF1LKJcaMc"
      },
      "source": [
        "# Машинное епилон\n",
        "В следующем блоке кода вычисляем машинное епсилон двумя способами:\n",
        " - удвоением знаменателя дроби;\n",
        " - увеличением максимально достигнутого знаменателя, при котором не выполняется равенство $1 = 1 + \\frac1n$ и увеличиваем знаменатель на единицу до выполнения равенста."
      ]
    },
    {
      "cell_type": "code",
      "metadata": {
        "id": "nv35kCifveQ1",
        "outputId": "e3edcb91-f772-4928-869a-bb8a7dece2b9",
        "colab": {
          "base_uri": "https://localhost:8080/",
          "height": 168
        }
      },
      "source": [
        "\"\"\"\n",
        "    Вычисление машинного эпсилон через цикл.\n",
        "\"\"\"\n",
        "n = 1\n",
        "k = 0\n",
        "while 1 != 1 + 1/n:\n",
        "    n *= 2\n",
        "    k += 1\n",
        "\n",
        "epsilon = 1/n\n",
        "print(n)\n",
        "print(\"Количество бит в мантисе: {}.\\n\".format(k))\n",
        "print(type(epsilon))\n",
        "\n",
        "print(\"Вычисление путем удвоения знаменателя: {}.\\n\".format(epsilon))\n",
        "\n",
        "n = n/2\n",
        "k -= 1\n",
        "while 1 != 1 + 1/n:\n",
        "    n += 10**8\n",
        "    k += 1\n",
        "\n",
        "epsilon = 1/n\n",
        "\n",
        "print(n)\n",
        "print(k)\n",
        "    \n",
        "print(\"Вычисление путем приближения увеличенного знаменателя: {}.\".format(epsilon))"
      ],
      "execution_count": null,
      "outputs": [
        {
          "output_type": "stream",
          "text": [
            "9007199254740992\n",
            "Количество бит в мантисе: 53.\n",
            "\n",
            "<class 'float'>\n",
            "Вычисление путем удвоения знаменателя: 1.1102230246251565e-16.\n",
            "\n",
            "9007199327370496.0\n",
            "45036049\n",
            "Вычисление путем приближения увеличенного знаменателя: 1.1102230156728791e-16.\n"
          ],
          "name": "stdout"
        }
      ]
    },
    {
      "cell_type": "markdown",
      "metadata": {
        "id": "IqzRG-JZiDRW"
      },
      "source": [
        "Заметим, что при попытке более точного вычисления машинного эпсилон у нас ничего более правильного не получилось, то примем $e = 10^{-16}.$"
      ]
    },
    {
      "cell_type": "markdown",
      "metadata": {
        "id": "twJcxP8mjD1P"
      },
      "source": [
        "# Основная часть"
      ]
    },
    {
      "cell_type": "markdown",
      "metadata": {
        "id": "uHDWY55vjTzx"
      },
      "source": [
        "## Введение формулы члена ряда и суммирование ряда\n",
        "$$S_N = \\sum\\limits_{n=0}^N \\frac {32} {n^2 + 5n + 6}$$"
      ]
    },
    {
      "cell_type": "code",
      "metadata": {
        "id": "-bRkP5l9So2J"
      },
      "source": [
        "def memderOfSequence(n):\n",
        "    rez = 32\n",
        "    rez /= (n + 2)\n",
        "    rez /= (n + 3)\n",
        "    return rez\n",
        "\n",
        "def summOfSequence(N):\n",
        "    rez = 0\n",
        "    for i in range(N + 1):\n",
        "        rez += memderOfSequence(i)\n",
        "    \n",
        "    return rez\n",
        "\n",
        "def CalculationTheError (N):\n",
        "    rez = 0\n",
        "    for i in range(N + 1):\n",
        "        rez += memderOfSequence(i)*epsilon\n",
        "    \n",
        "    return rez"
      ],
      "execution_count": null,
      "outputs": []
    },
    {
      "cell_type": "markdown",
      "metadata": {
        "id": "LHAzpWKXU21p"
      },
      "source": [
        "## Аналитическое решение\n",
        "\n",
        "$$\n",
        "  S_N = \\sum\\limits_{n=0}^N \\frac {32} {n^2 + 5n + 6} = \n",
        "  32 \\sum\\limits_{n=0}^N \\frac 1 {n^2 + 5n + 6} = \n",
        "  32 \\sum\\limits_{n=0}^N \\frac 1 {(n + 2)(n + 3)} =\n",
        "$$\n",
        "$$\n",
        "  32 \\sum\\limits_{n=0}^N \\frac 1 {n + 2} - \\frac 1 {n + 3} = \n",
        "  32 (\\frac12 - \\frac13 + \\frac13 - \\frac14 + \\frac14 - ... -\\frac 1 {N + 3}) = \n",
        "  32 (\\frac12 - \\frac 1 {N + 3})\n",
        "$$\n",
        "При устремлении $N \\to \\infty$, получим $S = 32(\\frac12 - \\frac 1 {N + 3}) = 16.$\n",
        "\n",
        "Таким образом мы вычислили точное значение суммы ряда, а также привели формулу для точного аналитического нахождения частичной суммы ряда."
      ]
    },
    {
      "cell_type": "code",
      "metadata": {
        "id": "zDLKEJ9FTM2h"
      },
      "source": [
        "def partialSumOfSequence(N):\n",
        "    rez = 16 - 32/(N + 3)\n",
        "    return rez"
      ],
      "execution_count": null,
      "outputs": []
    },
    {
      "cell_type": "markdown",
      "metadata": {
        "id": "oyg8LWIcjMkH"
      },
      "source": [
        "## Решение задачи через и вычисление погрешностей"
      ]
    },
    {
      "cell_type": "code",
      "metadata": {
        "id": "GgJbjdqYb6P3",
        "outputId": "52adbae2-3017-4052-d29d-6c4b6eaec83f",
        "colab": {
          "base_uri": "https://localhost:8080/",
          "height": 655
        }
      },
      "source": [
        "lst = range(1, 6)\n",
        "print(\"Массив для вычисления погрешности: {}\\n\\n\".format(list(lst)))\n",
        "\n",
        "power_List = list()\n",
        "power = 0\n",
        "\n",
        "for i in lst:\n",
        "    absolute = partialSumOfSequence(10**i)\n",
        "    recieved = summOfSequence(10**i)\n",
        "    delta = abs(absolute - recieved)\n",
        "    Error = CalculationTheError(10**i)\n",
        "    \n",
        "    print(\"Погрешность вычислений при N = 10**{}: \".format(i))\n",
        "    print(\"     absolute value = {0:5.16f}\".format(absolute))\n",
        "    print(\"     recieved value = {0:5.16f}\".format(recieved))\n",
        "    print(\"     Computation error = {0:10e}\".format(Error))\n",
        "    print(\"     Real error = {0:10e}\".format(delta))\n",
        "    print(\"\\n\")\n",
        "\n",
        "\n",
        "    if delta != 0:\n",
        "        power = 0\n",
        "        while (int(delta) < 1):\n",
        "            delta *= 10\n",
        "            power += 1\n",
        "    \n",
        "    power_List.append(power)"
      ],
      "execution_count": null,
      "outputs": [
        {
          "output_type": "stream",
          "text": [
            "Массив для вычисления погрешности: [1, 2, 3, 4, 5]\n",
            "\n",
            "\n",
            "Погрешность вычислений при N = 10**1: \n",
            "     absolute value = 13.5384615384615383\n",
            "     recieved value = 13.5384615384615365\n",
            "     Computation error = 1.503071e-15\n",
            "     Real error = 1.776357e-15\n",
            "\n",
            "\n",
            "Погрешность вычислений при N = 10**2: \n",
            "     absolute value = 15.6893203883495147\n",
            "     recieved value = 15.6893203883495147\n",
            "     Computation error = 1.741864e-15\n",
            "     Real error = 0.000000e+00\n",
            "\n",
            "\n",
            "Погрешность вычислений при N = 10**3: \n",
            "     absolute value = 15.9680957128614160\n",
            "     recieved value = 15.9680957128613912\n",
            "     Computation error = 1.772815e-15\n",
            "     Real error = 2.486900e-14\n",
            "\n",
            "\n",
            "Погрешность вычислений при N = 10**4: \n",
            "     absolute value = 15.9968009597120862\n",
            "     recieved value = 15.9968009597120755\n",
            "     Computation error = 1.776002e-15\n",
            "     Real error = 1.065814e-14\n",
            "\n",
            "\n",
            "Погрешность вычислений при N = 10**5: \n",
            "     absolute value = 15.9996800095997127\n",
            "     recieved value = 15.9996800095994320\n",
            "     Computation error = 1.776321e-15\n",
            "     Real error = 2.806644e-13\n",
            "\n",
            "\n"
          ],
          "name": "stdout"
        }
      ]
    },
    {
      "cell_type": "markdown",
      "metadata": {
        "id": "3oZyOe_4ncv3"
      },
      "source": [
        "Таким образом, мы видим, что ошибка для различных случачев составляет не более $2*10^{-15}$.\n",
        "\n",
        "В случае N = 100 можно попробовать найти момент, когда будут различаться точное и полученное значения. На данном этапе все числа представлены с точностью до 16 знака после запятой.\n",
        "\n",
        "Далее построим график зависимости степени ошибки от степени 10 в пробной выборке:"
      ]
    },
    {
      "cell_type": "code",
      "metadata": {
        "id": "At6Gh6vMqSCB",
        "outputId": "6ec993f2-b308-4892-a0e1-a8c72506cc65",
        "colab": {
          "base_uri": "https://localhost:8080/",
          "height": 265
        }
      },
      "source": [
        "plt.plot(lst, power_List)\n",
        "grid1 = plt.grid(True)\n",
        "\n",
        "plt.show()"
      ],
      "execution_count": null,
      "outputs": [
        {
          "output_type": "display_data",
          "data": {
            "image/png": "[encoded data removed]",
            "text/plain": [
              "<Figure size 432x288 with 1 Axes>"
            ]
          },
          "metadata": {
            "tags": [],
            "needs_background": "light"
          }
        }
      ]
    },
    {
      "cell_type": "markdown",
      "metadata": {
        "id": "lJBt1u6crqnz"
      },
      "source": [
        "Мы видим, что с увеличением количества членов в сумме ошибка увеличивается, а количество верных цифр в числе уменьшается."
      ]
    },
    {
      "cell_type": "markdown",
      "metadata": {
        "id": "wL2WdFixr7gM"
      },
      "source": [
        "# 24.09.2020\n",
        "\n",
        "# г. Долгопрудный"
      ]
    }
  ]
}